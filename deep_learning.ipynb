{
 "cells": [
  {
   "cell_type": "markdown",
   "metadata": {},
   "source": [
    "## Deep Learning (with Keras)\n",
    "\n",
    "In this assignment we will be exploring deep learnign with Keras and the Fasion-MNIST dataset. \n",
    "\n",
    "We start with imports."
   ]
  },
  {
   "cell_type": "code",
   "execution_count": 1,
   "metadata": {},
   "outputs": [
    {
     "name": "stderr",
     "output_type": "stream",
     "text": [
      "Using Theano backend.\n"
     ]
    }
   ],
   "source": [
    "from keras.datasets import mnist\n",
    "from keras import models\n",
    "from keras import layers\n",
    "from keras import regularizers\n",
    "from keras.utils import to_categorical\n",
    "from sklearn.model_selection import train_test_split\n",
    "import matplotlib.pyplot as plt"
   ]
  },
  {
   "cell_type": "code",
   "execution_count": 2,
   "metadata": {},
   "outputs": [],
   "source": [
    "import random"
   ]
  },
  {
   "cell_type": "code",
   "execution_count": 3,
   "metadata": {},
   "outputs": [],
   "source": [
    "%matplotlib inline"
   ]
  },
  {
   "cell_type": "code",
   "execution_count": 4,
   "metadata": {},
   "outputs": [],
   "source": [
    "seed = random.seed(1234)"
   ]
  },
  {
   "cell_type": "code",
   "execution_count": null,
   "metadata": {},
   "outputs": [],
   "source": [
    "random.seed(1234)"
   ]
  },
  {
   "cell_type": "markdown",
   "metadata": {},
   "source": [
    "### Load Data\n",
    "\n",
    "We now load and organise our data."
   ]
  },
  {
   "cell_type": "code",
   "execution_count": null,
   "metadata": {},
   "outputs": [],
   "source": [
    "(train_images, train_labels), (test_images, test_labels) = mnist.load_data()"
   ]
  },
  {
   "cell_type": "code",
   "execution_count": null,
   "metadata": {},
   "outputs": [],
   "source": [
    "train_images = train_images.reshape((60000, 28 * 28)).astype('float32') / 255\n",
    "test_images = test_images.reshape((10000, 28 * 28)).astype('float32') / 255\n",
    "train_labels = to_categorical(train_labels)\n",
    "test_labels = to_categorical(test_labels)\n",
    "train_images, valid_images, train_labels, valid_labels = train_test_split(train_images, train_labels, test_size = 0.16666, random_state = seed)"
   ]
  },
  {
   "cell_type": "markdown",
   "metadata": {},
   "source": [
    "### Initial Model\n",
    "\n",
    "We'll now build our models."
   ]
  },
  {
   "cell_type": "code",
   "execution_count": null,
   "metadata": {},
   "outputs": [],
   "source": [
    "initial_net = models.Sequential()"
   ]
  },
  {
   "cell_type": "code",
   "execution_count": null,
   "metadata": {},
   "outputs": [],
   "source": [
    "initial_net.add(layers.Dense(512, activation='relu', input_shape= (28 * 28,)))\n",
    "initial_net.add(layers.Dense(512, activation='relu'))\n",
    "initial_net.add(layers.Dense(512, activation='relu'))\n",
    "initial_net.add(layers.Dense(512, activation='relu'))\n",
    "initial_net.add(layers.Dense(10, activation='softmax'))\n"
   ]
  },
  {
   "cell_type": "code",
   "execution_count": null,
   "metadata": {},
   "outputs": [],
   "source": [
    "initial_net.compile(optimizer='rmsprop', loss='categorical_crossentropy', metrics=['accuracy'])\n"
   ]
  },
  {
   "cell_type": "code",
   "execution_count": null,
   "metadata": {},
   "outputs": [
    {
     "name": "stdout",
     "output_type": "stream",
     "text": [
      "Train on 50000 samples, validate on 10000 samples\n",
      "Epoch 1/200\n",
      "50000/50000 [==============================] - 7s 149us/step - loss: 0.5106 - acc: 0.8377 - val_loss: 0.2187 - val_acc: 0.9347\n",
      "Epoch 2/200\n",
      "50000/50000 [==============================] - 8s 159us/step - loss: 0.1562 - acc: 0.9531 - val_loss: 0.2447 - val_acc: 0.9312\n",
      "Epoch 3/200\n",
      "50000/50000 [==============================] - 7s 146us/step - loss: 0.0980 - acc: 0.9704 - val_loss: 0.1114 - val_acc: 0.9676\n",
      "Epoch 4/200\n",
      "50000/50000 [==============================] - 8s 163us/step - loss: 0.0654 - acc: 0.9802 - val_loss: 0.1104 - val_acc: 0.9703\n",
      "Epoch 5/200\n",
      "50000/50000 [==============================] - 7s 145us/step - loss: 0.0493 - acc: 0.9851 - val_loss: 0.0971 - val_acc: 0.9740\n",
      "Epoch 6/200\n",
      "50000/50000 [==============================] - 6s 121us/step - loss: 0.0367 - acc: 0.9885 - val_loss: 0.1158 - val_acc: 0.9735\n",
      "Epoch 7/200\n",
      "50000/50000 [==============================] - 6s 120us/step - loss: 0.0276 - acc: 0.9916 - val_loss: 0.0967 - val_acc: 0.9769\n",
      "Epoch 8/200\n",
      "50000/50000 [==============================] - 6s 115us/step - loss: 0.0250 - acc: 0.9928 - val_loss: 0.1046 - val_acc: 0.9765\n",
      "Epoch 9/200\n",
      "50000/50000 [==============================] - 6s 122us/step - loss: 0.0197 - acc: 0.9938 - val_loss: 0.1333 - val_acc: 0.9731\n",
      "Epoch 10/200\n",
      "50000/50000 [==============================] - 6s 121us/step - loss: 0.0180 - acc: 0.9945 - val_loss: 0.1449 - val_acc: 0.9700\n",
      "Epoch 11/200\n",
      "50000/50000 [==============================] - 6s 115us/step - loss: 0.0176 - acc: 0.9949 - val_loss: 0.1243 - val_acc: 0.9746\n",
      "Epoch 12/200\n",
      "50000/50000 [==============================] - 6s 117us/step - loss: 0.0152 - acc: 0.9960 - val_loss: 0.1257 - val_acc: 0.9774\n",
      "Epoch 13/200\n",
      "50000/50000 [==============================] - 7s 134us/step - loss: 0.0135 - acc: 0.9962 - val_loss: 0.1173 - val_acc: 0.9797\n",
      "Epoch 14/200\n",
      "50000/50000 [==============================] - 6s 119us/step - loss: 0.0134 - acc: 0.9963 - val_loss: 0.1073 - val_acc: 0.9808\n",
      "Epoch 15/200\n",
      "50000/50000 [==============================] - 6s 125us/step - loss: 0.0113 - acc: 0.9968 - val_loss: 0.1540 - val_acc: 0.9756\n",
      "Epoch 16/200\n",
      "50000/50000 [==============================] - 6s 120us/step - loss: 0.0123 - acc: 0.9967 - val_loss: 0.1278 - val_acc: 0.9777\n",
      "Epoch 17/200\n",
      "50000/50000 [==============================] - 6s 114us/step - loss: 0.0105 - acc: 0.9972 - val_loss: 0.1791 - val_acc: 0.9743\n",
      "Epoch 18/200\n",
      "50000/50000 [==============================] - 6s 113us/step - loss: 0.0108 - acc: 0.9973 - val_loss: 0.1415 - val_acc: 0.9770\n",
      "Epoch 19/200\n",
      "50000/50000 [==============================] - 6s 112us/step - loss: 0.0073 - acc: 0.9981 - val_loss: 0.1294 - val_acc: 0.9809\n",
      "Epoch 20/200\n",
      "50000/50000 [==============================] - 6s 113us/step - loss: 0.0108 - acc: 0.9975 - val_loss: 0.1607 - val_acc: 0.9766\n",
      "Epoch 21/200\n",
      "50000/50000 [==============================] - 6s 112us/step - loss: 0.0087 - acc: 0.9978 - val_loss: 0.1255 - val_acc: 0.9834\n",
      "Epoch 22/200\n",
      "50000/50000 [==============================] - 6s 112us/step - loss: 0.0100 - acc: 0.9977 - val_loss: 0.1448 - val_acc: 0.9790\n",
      "Epoch 23/200\n",
      "50000/50000 [==============================] - 6s 111us/step - loss: 0.0085 - acc: 0.9981 - val_loss: 0.1915 - val_acc: 0.9754\n",
      "Epoch 24/200\n",
      "50000/50000 [==============================] - 6s 115us/step - loss: 0.0107 - acc: 0.9974 - val_loss: 0.1287 - val_acc: 0.9803\n",
      "Epoch 25/200\n",
      "50000/50000 [==============================] - 6s 112us/step - loss: 0.0077 - acc: 0.9982 - val_loss: 0.1540 - val_acc: 0.9798\n",
      "Epoch 26/200\n",
      "50000/50000 [==============================] - 6s 114us/step - loss: 0.0062 - acc: 0.9985 - val_loss: 0.1517 - val_acc: 0.9803\n",
      "Epoch 27/200\n",
      "50000/50000 [==============================] - 6s 113us/step - loss: 0.0080 - acc: 0.9982 - val_loss: 0.1566 - val_acc: 0.9799\n",
      "Epoch 28/200\n",
      "50000/50000 [==============================] - 7s 140us/step - loss: 0.0084 - acc: 0.9981 - val_loss: 0.1739 - val_acc: 0.9785\n",
      "Epoch 29/200\n",
      "50000/50000 [==============================] - 8s 152us/step - loss: 0.0063 - acc: 0.9986 - val_loss: 0.1458 - val_acc: 0.9810\n",
      "Epoch 30/200\n",
      "50000/50000 [==============================] - 7s 137us/step - loss: 0.0077 - acc: 0.9985 - val_loss: 0.1255 - val_acc: 0.9829\n",
      "Epoch 31/200\n",
      "50000/50000 [==============================] - 6s 113us/step - loss: 0.0068 - acc: 0.9982 - val_loss: 0.1573 - val_acc: 0.9801\n",
      "Epoch 32/200\n",
      "50000/50000 [==============================] - 6s 115us/step - loss: 0.0063 - acc: 0.9986 - val_loss: 0.1428 - val_acc: 0.9804\n",
      "Epoch 33/200\n",
      "50000/50000 [==============================] - 9s 180us/step - loss: 0.0065 - acc: 0.9983 - val_loss: 0.1370 - val_acc: 0.9815\n",
      "Epoch 34/200\n",
      "50000/50000 [==============================] - 8s 156us/step - loss: 0.0070 - acc: 0.9987 - val_loss: 0.1369 - val_acc: 0.9836\n",
      "Epoch 35/200\n",
      "50000/50000 [==============================] - 7s 146us/step - loss: 0.0062 - acc: 0.9988 - val_loss: 0.1535 - val_acc: 0.9812\n",
      "Epoch 36/200\n",
      "50000/50000 [==============================] - 7s 144us/step - loss: 0.0061 - acc: 0.9987 - val_loss: 0.1485 - val_acc: 0.9819\n",
      "Epoch 37/200\n",
      "50000/50000 [==============================] - 7s 146us/step - loss: 0.0049 - acc: 0.9990 - val_loss: 0.1717 - val_acc: 0.9787\n",
      "Epoch 38/200\n",
      "50000/50000 [==============================] - 7s 145us/step - loss: 0.0081 - acc: 0.9984 - val_loss: 0.1521 - val_acc: 0.9820\n",
      "Epoch 39/200\n",
      "50000/50000 [==============================] - 7s 149us/step - loss: 0.0065 - acc: 0.9986 - val_loss: 0.1408 - val_acc: 0.9829\n",
      "Epoch 40/200\n",
      "50000/50000 [==============================] - 7s 148us/step - loss: 0.0058 - acc: 0.9990 - val_loss: 0.1503 - val_acc: 0.9830\n",
      "Epoch 41/200\n",
      "50000/50000 [==============================] - 7s 147us/step - loss: 0.0077 - acc: 0.9988 - val_loss: 0.1642 - val_acc: 0.9806\n",
      "Epoch 42/200\n",
      "50000/50000 [==============================] - 8s 154us/step - loss: 0.0055 - acc: 0.9989 - val_loss: 0.1760 - val_acc: 0.9821\n",
      "Epoch 43/200\n",
      "50000/50000 [==============================] - 7s 150us/step - loss: 0.0090 - acc: 0.9987 - val_loss: 0.1777 - val_acc: 0.9788\n",
      "Epoch 44/200\n",
      "50000/50000 [==============================] - 7s 147us/step - loss: 0.0048 - acc: 0.9990 - val_loss: 0.1509 - val_acc: 0.9822\n",
      "Epoch 45/200\n",
      "50000/50000 [==============================] - 8s 154us/step - loss: 0.0034 - acc: 0.9993 - val_loss: 0.1771 - val_acc: 0.9815\n",
      "Epoch 46/200\n",
      "50000/50000 [==============================] - 7s 149us/step - loss: 0.0072 - acc: 0.9987 - val_loss: 0.1927 - val_acc: 0.9810\n",
      "Epoch 47/200\n",
      "50000/50000 [==============================] - 8s 152us/step - loss: 0.0074 - acc: 0.9987 - val_loss: 0.1757 - val_acc: 0.9800\n",
      "Epoch 48/200\n",
      "50000/50000 [==============================] - 8s 160us/step - loss: 0.0068 - acc: 0.9987 - val_loss: 0.1780 - val_acc: 0.9803\n",
      "Epoch 49/200\n",
      "50000/50000 [==============================] - 7s 147us/step - loss: 0.0057 - acc: 0.9989 - val_loss: 0.1701 - val_acc: 0.9816\n",
      "Epoch 50/200\n",
      "50000/50000 [==============================] - 7s 149us/step - loss: 0.0066 - acc: 0.9988 - val_loss: 0.1719 - val_acc: 0.9826\n",
      "Epoch 51/200\n",
      "50000/50000 [==============================] - 7s 149us/step - loss: 0.0087 - acc: 0.9986 - val_loss: 0.1785 - val_acc: 0.9799\n",
      "Epoch 52/200\n",
      "50000/50000 [==============================] - 8s 152us/step - loss: 0.0053 - acc: 0.9989 - val_loss: 0.1716 - val_acc: 0.9810\n",
      "Epoch 53/200\n",
      "50000/50000 [==============================] - 8s 155us/step - loss: 0.0062 - acc: 0.9989 - val_loss: 0.1639 - val_acc: 0.9826\n",
      "Epoch 54/200\n",
      "50000/50000 [==============================] - 8s 158us/step - loss: 0.0070 - acc: 0.9987 - val_loss: 0.1427 - val_acc: 0.9842\n",
      "Epoch 55/200\n",
      "50000/50000 [==============================] - 7s 148us/step - loss: 0.0029 - acc: 0.9993 - val_loss: 0.1987 - val_acc: 0.9806\n",
      "Epoch 56/200\n",
      "50000/50000 [==============================] - 8s 150us/step - loss: 0.0055 - acc: 0.9990 - val_loss: 0.1780 - val_acc: 0.9816\n",
      "Epoch 57/200\n",
      "50000/50000 [==============================] - 7s 148us/step - loss: 0.0061 - acc: 0.9989 - val_loss: 0.1802 - val_acc: 0.9814\n",
      "Epoch 58/200\n",
      "50000/50000 [==============================] - 8s 150us/step - loss: 0.0056 - acc: 0.9991 - val_loss: 0.2001 - val_acc: 0.9808\n",
      "Epoch 59/200\n"
     ]
    },
    {
     "name": "stdout",
     "output_type": "stream",
     "text": [
      "50000/50000 [==============================] - 7s 141us/step - loss: 0.0075 - acc: 0.9986 - val_loss: 0.1853 - val_acc: 0.9815\n",
      "Epoch 60/200\n",
      "50000/50000 [==============================] - 9s 175us/step - loss: 0.0058 - acc: 0.9991 - val_loss: 0.1891 - val_acc: 0.9800\n",
      "Epoch 61/200\n",
      "50000/50000 [==============================] - 8s 160us/step - loss: 0.0050 - acc: 0.9991 - val_loss: 0.2173 - val_acc: 0.9794\n",
      "Epoch 62/200\n",
      "50000/50000 [==============================] - 7s 144us/step - loss: 0.0057 - acc: 0.9989 - val_loss: 0.1936 - val_acc: 0.9792\n",
      "Epoch 63/200\n",
      "50000/50000 [==============================] - 7s 147us/step - loss: 0.0041 - acc: 0.9993 - val_loss: 0.2195 - val_acc: 0.9775\n",
      "Epoch 64/200\n",
      "50000/50000 [==============================] - 7s 150us/step - loss: 0.0081 - acc: 0.9989 - val_loss: 0.2200 - val_acc: 0.9758\n",
      "Epoch 65/200\n",
      "50000/50000 [==============================] - 7s 144us/step - loss: 0.0076 - acc: 0.9989 - val_loss: 0.1711 - val_acc: 0.9807\n",
      "Epoch 66/200\n",
      "50000/50000 [==============================] - 7s 146us/step - loss: 0.0034 - acc: 0.9994 - val_loss: 0.2075 - val_acc: 0.9781\n",
      "Epoch 67/200\n",
      "50000/50000 [==============================] - 7s 147us/step - loss: 0.0039 - acc: 0.9992 - val_loss: 0.1810 - val_acc: 0.9825\n",
      "Epoch 68/200\n",
      "50000/50000 [==============================] - 8s 162us/step - loss: 0.0084 - acc: 0.9989 - val_loss: 0.1683 - val_acc: 0.9831\n",
      "Epoch 69/200\n",
      "50000/50000 [==============================] - 7s 146us/step - loss: 0.0109 - acc: 0.9986 - val_loss: 0.2056 - val_acc: 0.9814\n",
      "Epoch 70/200\n",
      "50000/50000 [==============================] - 7s 147us/step - loss: 0.0045 - acc: 0.9993 - val_loss: 0.2237 - val_acc: 0.9794\n",
      "Epoch 71/200\n",
      "50000/50000 [==============================] - 7s 148us/step - loss: 0.0042 - acc: 0.9993 - val_loss: 0.2546 - val_acc: 0.9770\n",
      "Epoch 72/200\n",
      "50000/50000 [==============================] - 7s 146us/step - loss: 0.0077 - acc: 0.9989 - val_loss: 0.2089 - val_acc: 0.9812\n",
      "Epoch 73/200\n",
      "50000/50000 [==============================] - 8s 157us/step - loss: 0.0057 - acc: 0.9993 - val_loss: 0.1984 - val_acc: 0.9826\n",
      "Epoch 74/200\n",
      "50000/50000 [==============================] - 6s 128us/step - loss: 0.0052 - acc: 0.9992 - val_loss: 0.1895 - val_acc: 0.9825\n",
      "Epoch 75/200\n",
      "50000/50000 [==============================] - 6s 125us/step - loss: 0.0062 - acc: 0.9991 - val_loss: 0.1752 - val_acc: 0.9827\n",
      "Epoch 76/200\n",
      "50000/50000 [==============================] - 6s 121us/step - loss: 0.0067 - acc: 0.9991 - val_loss: 0.1879 - val_acc: 0.9821\n",
      "Epoch 77/200\n",
      "50000/50000 [==============================] - 6s 119us/step - loss: 0.0062 - acc: 0.9991 - val_loss: 0.2042 - val_acc: 0.9805\n",
      "Epoch 78/200\n",
      "50000/50000 [==============================] - 6s 120us/step - loss: 0.0043 - acc: 0.9992 - val_loss: 0.2076 - val_acc: 0.9809\n",
      "Epoch 79/200\n",
      "50000/50000 [==============================] - 6s 118us/step - loss: 0.0046 - acc: 0.9993 - val_loss: 0.2379 - val_acc: 0.9790\n",
      "Epoch 80/200\n",
      "50000/50000 [==============================] - 6s 121us/step - loss: 0.0078 - acc: 0.9990 - val_loss: 0.2218 - val_acc: 0.9803\n",
      "Epoch 81/200\n",
      "50000/50000 [==============================] - 6s 119us/step - loss: 0.0076 - acc: 0.9989 - val_loss: 0.2189 - val_acc: 0.9804\n",
      "Epoch 82/200\n",
      "50000/50000 [==============================] - 6s 120us/step - loss: 0.0088 - acc: 0.9989 - val_loss: 0.2009 - val_acc: 0.9815\n",
      "Epoch 83/200\n",
      "50000/50000 [==============================] - 6s 120us/step - loss: 0.0081 - acc: 0.9990 - val_loss: 0.2299 - val_acc: 0.9794\n",
      "Epoch 84/200\n",
      "50000/50000 [==============================] - 6s 119us/step - loss: 0.0062 - acc: 0.9991 - val_loss: 0.2010 - val_acc: 0.9822\n",
      "Epoch 85/200\n",
      "50000/50000 [==============================] - 6s 130us/step - loss: 0.0074 - acc: 0.9991 - val_loss: 0.2227 - val_acc: 0.9807\n",
      "Epoch 86/200\n",
      "50000/50000 [==============================] - 6s 127us/step - loss: 0.0065 - acc: 0.9993 - val_loss: 0.1927 - val_acc: 0.9817\n",
      "Epoch 87/200\n",
      "50000/50000 [==============================] - 8s 156us/step - loss: 0.0051 - acc: 0.9993 - val_loss: 0.1953 - val_acc: 0.9807\n",
      "Epoch 88/200\n",
      "50000/50000 [==============================] - 7s 145us/step - loss: 0.0077 - acc: 0.9989 - val_loss: 0.1833 - val_acc: 0.9817\n",
      "Epoch 89/200\n",
      "50000/50000 [==============================] - 7s 148us/step - loss: 0.0053 - acc: 0.9991 - val_loss: 0.2185 - val_acc: 0.9788\n",
      "Epoch 90/200\n",
      "50000/50000 [==============================] - 8s 157us/step - loss: 9.1599e-04 - acc: 0.9998 - val_loss: 0.2337 - val_acc: 0.9800\n",
      "Epoch 91/200\n",
      "50000/50000 [==============================] - 7s 130us/step - loss: 0.0080 - acc: 0.9988 - val_loss: 0.2075 - val_acc: 0.9813\n",
      "Epoch 92/200\n",
      "50000/50000 [==============================] - 6s 123us/step - loss: 0.0066 - acc: 0.9992 - val_loss: 0.2109 - val_acc: 0.9808\n",
      "Epoch 93/200\n",
      "50000/50000 [==============================] - 6s 123us/step - loss: 0.0072 - acc: 0.9990 - val_loss: 0.1592 - val_acc: 0.9833\n",
      "Epoch 94/200\n",
      "50000/50000 [==============================] - 7s 135us/step - loss: 0.0041 - acc: 0.9993 - val_loss: 0.1719 - val_acc: 0.9833\n",
      "Epoch 95/200\n",
      "50000/50000 [==============================] - 8s 151us/step - loss: 0.0064 - acc: 0.9991 - val_loss: 0.2046 - val_acc: 0.9812\n",
      "Epoch 96/200\n",
      "50000/50000 [==============================] - 8s 152us/step - loss: 0.0066 - acc: 0.9991 - val_loss: 0.1916 - val_acc: 0.9829\n",
      "Epoch 97/200\n",
      "50000/50000 [==============================] - 6s 126us/step - loss: 0.0047 - acc: 0.9993 - val_loss: 0.1870 - val_acc: 0.9818\n",
      "Epoch 98/200\n",
      "50000/50000 [==============================] - 7s 148us/step - loss: 0.0061 - acc: 0.9993 - val_loss: 0.2331 - val_acc: 0.9804\n",
      "Epoch 99/200\n",
      "50000/50000 [==============================] - 7s 132us/step - loss: 0.0059 - acc: 0.9992 - val_loss: 0.2076 - val_acc: 0.9791\n",
      "Epoch 100/200\n",
      "50000/50000 [==============================] - 7s 136us/step - loss: 0.0040 - acc: 0.9995 - val_loss: 0.2245 - val_acc: 0.9789\n",
      "Epoch 101/200\n",
      "50000/50000 [==============================] - 8s 153us/step - loss: 0.0078 - acc: 0.9990 - val_loss: 0.2032 - val_acc: 0.9821\n",
      "Epoch 102/200\n",
      "50000/50000 [==============================] - 7s 147us/step - loss: 0.0049 - acc: 0.9994 - val_loss: 0.2307 - val_acc: 0.9802\n",
      "Epoch 103/200\n",
      "50000/50000 [==============================] - 10s 200us/step - loss: 0.0051 - acc: 0.9993 - val_loss: 0.2222 - val_acc: 0.9804\n",
      "Epoch 104/200\n",
      "50000/50000 [==============================] - 8s 162us/step - loss: 0.0056 - acc: 0.9993 - val_loss: 0.2263 - val_acc: 0.9808\n",
      "Epoch 105/200\n",
      "50000/50000 [==============================] - 9s 183us/step - loss: 0.0075 - acc: 0.9993 - val_loss: 0.1998 - val_acc: 0.9820\n",
      "Epoch 106/200\n",
      "50000/50000 [==============================] - 8s 166us/step - loss: 0.0077 - acc: 0.9992 - val_loss: 0.1916 - val_acc: 0.9823\n",
      "Epoch 107/200\n",
      "50000/50000 [==============================] - 8s 153us/step - loss: 0.0069 - acc: 0.9991 - val_loss: 0.1799 - val_acc: 0.9831\n",
      "Epoch 108/200\n",
      "50000/50000 [==============================] - 8s 153us/step - loss: 0.0068 - acc: 0.9990 - val_loss: 0.1642 - val_acc: 0.9826\n",
      "Epoch 109/200\n",
      "50000/50000 [==============================] - 8s 152us/step - loss: 0.0030 - acc: 0.9994 - val_loss: 0.2129 - val_acc: 0.9809\n",
      "Epoch 110/200\n",
      "50000/50000 [==============================] - 8s 152us/step - loss: 0.0062 - acc: 0.9992 - val_loss: 0.1803 - val_acc: 0.9832\n",
      "Epoch 111/200\n",
      "50000/50000 [==============================] - 8s 152us/step - loss: 0.0045 - acc: 0.9994 - val_loss: 0.2129 - val_acc: 0.9804\n",
      "Epoch 112/200\n",
      "50000/50000 [==============================] - 8s 152us/step - loss: 0.0019 - acc: 0.9999 - val_loss: 0.2154 - val_acc: 0.9832\n",
      "Epoch 113/200\n",
      "50000/50000 [==============================] - 9s 177us/step - loss: 0.0070 - acc: 0.9991 - val_loss: 0.2204 - val_acc: 0.9801\n",
      "Epoch 114/200\n",
      "50000/50000 [==============================] - 8s 154us/step - loss: 0.0093 - acc: 0.9989 - val_loss: 0.1951 - val_acc: 0.9819\n",
      "Epoch 115/200\n",
      "50000/50000 [==============================] - 8s 165us/step - loss: 0.0059 - acc: 0.9993 - val_loss: 0.2178 - val_acc: 0.9805\n",
      "Epoch 116/200\n",
      "50000/50000 [==============================] - 8s 170us/step - loss: 0.0046 - acc: 0.9993 - val_loss: 0.2063 - val_acc: 0.9823\n",
      "Epoch 117/200\n"
     ]
    },
    {
     "name": "stdout",
     "output_type": "stream",
     "text": [
      "50000/50000 [==============================] - 10s 203us/step - loss: 0.0042 - acc: 0.9994 - val_loss: 0.2298 - val_acc: 0.9794\n",
      "Epoch 118/200\n",
      "50000/50000 [==============================] - 9s 171us/step - loss: 0.0045 - acc: 0.9993 - val_loss: 0.2072 - val_acc: 0.9820\n",
      "Epoch 119/200\n",
      "50000/50000 [==============================] - 9s 176us/step - loss: 0.0077 - acc: 0.9991 - val_loss: 0.2100 - val_acc: 0.9808\n",
      "Epoch 120/200\n",
      "50000/50000 [==============================] - 10s 193us/step - loss: 0.0068 - acc: 0.9989 - val_loss: 0.2210 - val_acc: 0.9800\n",
      "Epoch 121/200\n",
      "50000/50000 [==============================] - 8s 164us/step - loss: 0.0051 - acc: 0.9995 - val_loss: 0.1932 - val_acc: 0.9827\n",
      "Epoch 122/200\n",
      "50000/50000 [==============================] - 8s 163us/step - loss: 0.0079 - acc: 0.9991 - val_loss: 0.2227 - val_acc: 0.9806\n",
      "Epoch 123/200\n",
      "50000/50000 [==============================] - 6s 123us/step - loss: 0.0046 - acc: 0.9994 - val_loss: 0.1914 - val_acc: 0.9815\n",
      "Epoch 124/200\n",
      "50000/50000 [==============================] - 6s 122us/step - loss: 0.0031 - acc: 0.9996 - val_loss: 0.2292 - val_acc: 0.9805\n",
      "Epoch 125/200\n",
      "50000/50000 [==============================] - 6s 121us/step - loss: 0.0040 - acc: 0.9994 - val_loss: 0.1794 - val_acc: 0.9827\n",
      "Epoch 126/200\n",
      "50000/50000 [==============================] - 6s 124us/step - loss: 0.0021 - acc: 0.9998 - val_loss: 0.2084 - val_acc: 0.9814\n",
      "Epoch 127/200\n",
      "50000/50000 [==============================] - 6s 128us/step - loss: 0.0039 - acc: 0.9995 - val_loss: 0.2222 - val_acc: 0.9815\n",
      "Epoch 128/200\n",
      "50000/50000 [==============================] - 6s 126us/step - loss: 0.0078 - acc: 0.9992 - val_loss: 0.2253 - val_acc: 0.9809\n",
      "Epoch 129/200\n",
      "50000/50000 [==============================] - 6s 123us/step - loss: 0.0118 - acc: 0.9988 - val_loss: 0.2224 - val_acc: 0.9803\n",
      "Epoch 130/200\n",
      "50000/50000 [==============================] - 6s 129us/step - loss: 0.0080 - acc: 0.9992 - val_loss: 0.2199 - val_acc: 0.9809\n",
      "Epoch 131/200\n",
      "50000/50000 [==============================] - 7s 133us/step - loss: 0.0064 - acc: 0.9992 - val_loss: 0.1988 - val_acc: 0.9813\n",
      "Epoch 132/200\n",
      "50000/50000 [==============================] - 9s 179us/step - loss: 0.0089 - acc: 0.9990 - val_loss: 0.2007 - val_acc: 0.9809\n",
      "Epoch 133/200\n",
      "50000/50000 [==============================] - 9s 185us/step - loss: 0.0058 - acc: 0.9995 - val_loss: 0.2119 - val_acc: 0.9810\n",
      "Epoch 134/200\n",
      "50000/50000 [==============================] - 8s 158us/step - loss: 0.0055 - acc: 0.9994 - val_loss: 0.2447 - val_acc: 0.9792\n",
      "Epoch 135/200\n",
      "50000/50000 [==============================] - 7s 133us/step - loss: 0.0073 - acc: 0.9991 - val_loss: 0.1896 - val_acc: 0.9839\n",
      "Epoch 136/200\n",
      "50000/50000 [==============================] - 7s 139us/step - loss: 0.0035 - acc: 0.9996 - val_loss: 0.2193 - val_acc: 0.9807\n",
      "Epoch 137/200\n",
      "50000/50000 [==============================] - 7s 135us/step - loss: 0.0040 - acc: 0.9995 - val_loss: 0.2158 - val_acc: 0.9814\n",
      "Epoch 138/200\n",
      "50000/50000 [==============================] - 7s 138us/step - loss: 0.0075 - acc: 0.9990 - val_loss: 0.2457 - val_acc: 0.9802\n",
      "Epoch 139/200\n",
      "50000/50000 [==============================] - 7s 133us/step - loss: 0.0051 - acc: 0.9995 - val_loss: 0.2186 - val_acc: 0.9801\n",
      "Epoch 140/200\n",
      "50000/50000 [==============================] - 7s 144us/step - loss: 0.0059 - acc: 0.9993 - val_loss: 0.2148 - val_acc: 0.9811\n",
      "Epoch 141/200\n",
      "50000/50000 [==============================] - 7s 133us/step - loss: 0.0079 - acc: 0.9992 - val_loss: 0.2485 - val_acc: 0.9800\n",
      "Epoch 142/200\n",
      "50000/50000 [==============================] - 6s 127us/step - loss: 0.0064 - acc: 0.9992 - val_loss: 0.2201 - val_acc: 0.9804\n",
      "Epoch 143/200\n",
      "50000/50000 [==============================] - 6s 125us/step - loss: 0.0060 - acc: 0.9994 - val_loss: 0.2206 - val_acc: 0.9810\n",
      "Epoch 144/200\n",
      "50000/50000 [==============================] - 8s 157us/step - loss: 0.0034 - acc: 0.9996 - val_loss: 0.2203 - val_acc: 0.9817\n",
      "Epoch 145/200\n",
      "50000/50000 [==============================] - 8s 162us/step - loss: 0.0045 - acc: 0.9996 - val_loss: 0.2079 - val_acc: 0.9831\n",
      "Epoch 146/200\n",
      "50000/50000 [==============================] - 9s 182us/step - loss: 0.0109 - acc: 0.9990 - val_loss: 0.2468 - val_acc: 0.9806\n",
      "Epoch 147/200\n",
      "50000/50000 [==============================] - 9s 176us/step - loss: 0.0073 - acc: 0.9993 - val_loss: 0.2199 - val_acc: 0.9819\n",
      "Epoch 148/200\n",
      "50000/50000 [==============================] - 8s 161us/step - loss: 0.0094 - acc: 0.9989 - val_loss: 0.2219 - val_acc: 0.9806\n",
      "Epoch 149/200\n",
      "50000/50000 [==============================] - 7s 144us/step - loss: 0.0123 - acc: 0.9988 - val_loss: 0.2448 - val_acc: 0.9799\n",
      "Epoch 150/200\n",
      "50000/50000 [==============================] - 9s 172us/step - loss: 0.0088 - acc: 0.9990 - val_loss: 0.2448 - val_acc: 0.9793\n",
      "Epoch 151/200\n",
      "50000/50000 [==============================] - 8s 164us/step - loss: 0.0056 - acc: 0.9991 - val_loss: 0.2286 - val_acc: 0.9799\n",
      "Epoch 152/200\n",
      "50000/50000 [==============================] - 8s 169us/step - loss: 0.0092 - acc: 0.9990 - val_loss: 0.2207 - val_acc: 0.9821\n",
      "Epoch 153/200\n",
      "50000/50000 [==============================] - 8s 163us/step - loss: 0.0066 - acc: 0.9992 - val_loss: 0.2362 - val_acc: 0.9804\n",
      "Epoch 154/200\n",
      "50000/50000 [==============================] - 8s 157us/step - loss: 0.0039 - acc: 0.9995 - val_loss: 0.2179 - val_acc: 0.9807\n",
      "Epoch 155/200\n",
      "50000/50000 [==============================] - 8s 155us/step - loss: 0.0025 - acc: 0.9997 - val_loss: 0.2451 - val_acc: 0.9812\n",
      "Epoch 156/200\n",
      "50000/50000 [==============================] - 10s 197us/step - loss: 0.0083 - acc: 0.9990 - val_loss: 0.2272 - val_acc: 0.9806\n",
      "Epoch 157/200\n",
      "50000/50000 [==============================] - 9s 177us/step - loss: 0.0066 - acc: 0.9993 - val_loss: 0.2238 - val_acc: 0.9816\n",
      "Epoch 158/200\n",
      "50000/50000 [==============================] - 9s 179us/step - loss: 0.0085 - acc: 0.9991 - val_loss: 0.2440 - val_acc: 0.9808\n",
      "Epoch 159/200\n",
      "50000/50000 [==============================] - 8s 157us/step - loss: 0.0104 - acc: 0.9989 - val_loss: 0.2477 - val_acc: 0.9791\n",
      "Epoch 160/200\n",
      "50000/50000 [==============================] - 8s 168us/step - loss: 0.0102 - acc: 0.9991 - val_loss: 0.2587 - val_acc: 0.9791\n",
      "Epoch 161/200\n",
      "50000/50000 [==============================] - 8s 162us/step - loss: 0.0081 - acc: 0.9991 - val_loss: 0.2305 - val_acc: 0.9813\n",
      "Epoch 162/200\n",
      "50000/50000 [==============================] - 8s 159us/step - loss: 0.0060 - acc: 0.9994 - val_loss: 0.2413 - val_acc: 0.9813\n",
      "Epoch 163/200\n",
      "50000/50000 [==============================] - 8s 151us/step - loss: 0.0085 - acc: 0.9991 - val_loss: 0.2378 - val_acc: 0.9796\n",
      "Epoch 164/200\n",
      "50000/50000 [==============================] - 8s 155us/step - loss: 0.0055 - acc: 0.9994 - val_loss: 0.2895 - val_acc: 0.9765\n",
      "Epoch 165/200\n",
      "50000/50000 [==============================] - 8s 151us/step - loss: 0.0075 - acc: 0.9992 - val_loss: 0.2151 - val_acc: 0.9823\n",
      "Epoch 166/200\n",
      "50000/50000 [==============================] - 8s 153us/step - loss: 0.0073 - acc: 0.9993 - val_loss: 0.2260 - val_acc: 0.9801\n",
      "Epoch 167/200\n",
      "50000/50000 [==============================] - 8s 153us/step - loss: 0.0069 - acc: 0.9992 - val_loss: 0.2196 - val_acc: 0.9812\n",
      "Epoch 168/200\n",
      "50000/50000 [==============================] - 8s 157us/step - loss: 0.0065 - acc: 0.9994 - val_loss: 0.2312 - val_acc: 0.9804\n",
      "Epoch 169/200\n",
      "50000/50000 [==============================] - 8s 151us/step - loss: 0.0078 - acc: 0.9990 - val_loss: 0.2316 - val_acc: 0.9803\n",
      "Epoch 170/200\n",
      "50000/50000 [==============================] - 8s 156us/step - loss: 0.0026 - acc: 0.9996 - val_loss: 0.2006 - val_acc: 0.9825\n",
      "Epoch 171/200\n",
      "50000/50000 [==============================] - 8s 165us/step - loss: 0.0066 - acc: 0.9992 - val_loss: 0.2318 - val_acc: 0.9802\n",
      "Epoch 172/200\n",
      "50000/50000 [==============================] - 8s 162us/step - loss: 0.0079 - acc: 0.9992 - val_loss: 0.2314 - val_acc: 0.9813\n",
      "Epoch 173/200\n",
      "50000/50000 [==============================] - 9s 188us/step - loss: 0.0061 - acc: 0.9993 - val_loss: 0.2230 - val_acc: 0.9811\n",
      "Epoch 174/200\n",
      "50000/50000 [==============================] - 9s 182us/step - loss: 0.0065 - acc: 0.9993 - val_loss: 0.2009 - val_acc: 0.9831\n",
      "Epoch 175/200\n"
     ]
    },
    {
     "name": "stdout",
     "output_type": "stream",
     "text": [
      "50000/50000 [==============================] - 8s 165us/step - loss: 0.0031 - acc: 0.9996 - val_loss: 0.2528 - val_acc: 0.9799\n",
      "Epoch 176/200\n",
      "50000/50000 [==============================] - 8s 158us/step - loss: 0.0093 - acc: 0.9991 - val_loss: 0.2471 - val_acc: 0.9794\n",
      "Epoch 177/200\n",
      "50000/50000 [==============================] - 7s 149us/step - loss: 0.0074 - acc: 0.9991 - val_loss: 0.2375 - val_acc: 0.9796\n",
      "Epoch 178/200\n",
      "50000/50000 [==============================] - 7s 148us/step - loss: 0.0064 - acc: 0.9993 - val_loss: 0.2359 - val_acc: 0.9792\n",
      "Epoch 179/200\n",
      "50000/50000 [==============================] - 7s 149us/step - loss: 0.0085 - acc: 0.9989 - val_loss: 0.2142 - val_acc: 0.9815\n",
      "Epoch 180/200\n",
      "50000/50000 [==============================] - 7s 149us/step - loss: 0.0047 - acc: 0.9995 - val_loss: 0.2228 - val_acc: 0.9810\n",
      "Epoch 181/200\n",
      "50000/50000 [==============================] - 8s 155us/step - loss: 0.0034 - acc: 0.9996 - val_loss: 0.2493 - val_acc: 0.9803\n",
      "Epoch 182/200\n",
      "50000/50000 [==============================] - 7s 149us/step - loss: 0.0057 - acc: 0.9993 - val_loss: 0.2446 - val_acc: 0.9801\n",
      "Epoch 183/200\n",
      "50000/50000 [==============================] - 8s 160us/step - loss: 0.0078 - acc: 0.9991 - val_loss: 0.2209 - val_acc: 0.9825\n",
      "Epoch 184/200\n",
      "50000/50000 [==============================] - 9s 176us/step - loss: 0.0046 - acc: 0.9994 - val_loss: 0.2544 - val_acc: 0.9787\n",
      "Epoch 185/200\n",
      "50000/50000 [==============================] - 8s 164us/step - loss: 0.0063 - acc: 0.9993 - val_loss: 0.2483 - val_acc: 0.9799\n",
      "Epoch 186/200\n",
      "50000/50000 [==============================] - 9s 181us/step - loss: 0.0056 - acc: 0.9994 - val_loss: 0.2192 - val_acc: 0.9823\n",
      "Epoch 187/200\n",
      "50000/50000 [==============================] - 8s 154us/step - loss: 0.0034 - acc: 0.9998 - val_loss: 0.2431 - val_acc: 0.9817\n",
      "Epoch 188/200\n",
      "50000/50000 [==============================] - 7s 140us/step - loss: 0.0087 - acc: 0.9993 - val_loss: 0.2483 - val_acc: 0.9807\n",
      "Epoch 189/200\n",
      "50000/50000 [==============================] - 7s 140us/step - loss: 0.0071 - acc: 0.9993 - val_loss: 0.2402 - val_acc: 0.9799\n",
      "Epoch 190/200\n",
      "50000/50000 [==============================] - 7s 141us/step - loss: 0.0017 - acc: 0.9997 - val_loss: 0.2467 - val_acc: 0.9805\n",
      "Epoch 191/200\n",
      "50000/50000 [==============================] - 7s 139us/step - loss: 0.0052 - acc: 0.9994 - val_loss: 0.2563 - val_acc: 0.9788\n",
      "Epoch 192/200\n",
      "50000/50000 [==============================] - 7s 143us/step - loss: 0.0028 - acc: 0.9996 - val_loss: 0.2088 - val_acc: 0.9832\n",
      "Epoch 193/200\n",
      "50000/50000 [==============================] - 7s 148us/step - loss: 0.0028 - acc: 0.9998 - val_loss: 0.2427 - val_acc: 0.9814\n",
      "Epoch 194/200\n",
      "50000/50000 [==============================] - 7s 141us/step - loss: 0.0028 - acc: 0.9997 - val_loss: 0.2421 - val_acc: 0.9813\n",
      "Epoch 195/200\n",
      "50000/50000 [==============================] - 7s 143us/step - loss: 0.0025 - acc: 0.9997 - val_loss: 0.2301 - val_acc: 0.9825\n",
      "Epoch 196/200\n",
      "50000/50000 [==============================] - 8s 156us/step - loss: 0.0042 - acc: 0.9996 - val_loss: 0.2205 - val_acc: 0.9818\n",
      "Epoch 197/200\n",
      "50000/50000 [==============================] - 7s 146us/step - loss: 0.0046 - acc: 0.9995 - val_loss: 0.2380 - val_acc: 0.9807\n",
      "Epoch 198/200\n",
      "50000/50000 [==============================] - 7s 145us/step - loss: 0.0022 - acc: 0.9997 - val_loss: 0.2184 - val_acc: 0.9821\n",
      "Epoch 199/200\n",
      "50000/50000 [==============================] - 7s 144us/step - loss: 0.0061 - acc: 0.9994 - val_loss: 0.2504 - val_acc: 0.9812\n",
      "Epoch 200/200\n",
      "50000/50000 [==============================] - 7s 142us/step - loss: 0.0059 - acc: 0.9995 - val_loss: 0.2126 - val_acc: 0.9831\n"
     ]
    }
   ],
   "source": [
    "initial_net = initial_net.fit(train_images, train_labels,validation_data=(valid_images,valid_labels), epochs=200, batch_size=512)"
   ]
  },
  {
   "cell_type": "markdown",
   "metadata": {},
   "source": [
    "### Analysis"
   ]
  },
  {
   "cell_type": "code",
   "execution_count": null,
   "metadata": {},
   "outputs": [],
   "source": [
    "initial_accuracy =  initial_net.history['val_acc']\n",
    "initial_loss = initial_net.history['val_loss']"
   ]
  },
  {
   "cell_type": "code",
   "execution_count": null,
   "metadata": {},
   "outputs": [
    {
     "data": {
      "image/png": "[encoded data removed]",
      "text/plain": [
       "<Figure size 432x288 with 1 Axes>"
      ]
     },
     "metadata": {
      "needs_background": "light"
     },
     "output_type": "display_data"
    }
   ],
   "source": [
    "plt.plot(initial_accuracy)\n",
    "plt.plot(initial_loss)\n",
    "plt.legend(['accuracy', 'loss'])\n",
    "plt.title('The validation set accuracy and loss over epochs')\n",
    "plt.show()"
   ]
  },
  {
   "cell_type": "markdown",
   "metadata": {},
   "source": [
    "### Dropout Network"
   ]
  },
  {
   "cell_type": "code",
   "execution_count": null,
   "metadata": {},
   "outputs": [],
   "source": [
    "network_dropout = models.Sequential()"
   ]
  },
  {
   "cell_type": "code",
   "execution_count": null,
   "metadata": {},
   "outputs": [],
   "source": [
    "network_dropout.add(layers.Dense(512, activation='relu', input_shape=(28 * 28,)))\n",
    "network_dropout.add(layers.Dropout(0.5))\n",
    "network_dropout.add(layers.Dense(512, activation='relu'))\n",
    "network_dropout.add(layers.Dropout(0.5))\n",
    "network_dropout.add(layers.Dense(512, activation='relu'))\n",
    "network_dropout.add(layers.Dropout(0.5))\n",
    "network_dropout.add(layers.Dense(512, activation='relu'))\n",
    "network_dropout.add(layers.Dropout(0.5))\n",
    "network_dropout.add(layers.Dense(10, activation='softmax'))\n"
   ]
  },
  {
   "cell_type": "code",
   "execution_count": null,
   "metadata": {},
   "outputs": [],
   "source": [
    "network_dropout.compile(optimizer='rmsprop', loss='categorical_crossentropy', metrics=['accuracy'])\n"
   ]
  },
  {
   "cell_type": "code",
   "execution_count": null,
   "metadata": {},
   "outputs": [
    {
     "name": "stdout",
     "output_type": "stream",
     "text": [
      "Train on 50000 samples, validate on 10000 samples\n",
      "Epoch 1/200\n",
      "50000/50000 [==============================] - 11s 216us/step - loss: 0.7252 - acc: 0.7607 - val_loss: 0.2364 - val_acc: 0.9253\n",
      "Epoch 2/200\n",
      "50000/50000 [==============================] - 10s 196us/step - loss: 0.2629 - acc: 0.9225 - val_loss: 0.1616 - val_acc: 0.9519\n",
      "Epoch 3/200\n",
      "50000/50000 [==============================] - 10s 192us/step - loss: 0.1982 - acc: 0.9429 - val_loss: 0.1196 - val_acc: 0.9662\n",
      "Epoch 4/200\n",
      "50000/50000 [==============================] - 10s 196us/step - loss: 0.1617 - acc: 0.9544 - val_loss: 0.1124 - val_acc: 0.9686\n",
      "Epoch 5/200\n",
      "50000/50000 [==============================] - 10s 198us/step - loss: 0.1419 - acc: 0.9606 - val_loss: 0.0998 - val_acc: 0.9729\n",
      "Epoch 6/200\n",
      "50000/50000 [==============================] - 10s 207us/step - loss: 0.1264 - acc: 0.9646 - val_loss: 0.0902 - val_acc: 0.9759\n",
      "Epoch 7/200\n",
      "50000/50000 [==============================] - 10s 196us/step - loss: 0.1137 - acc: 0.9690 - val_loss: 0.0927 - val_acc: 0.9761\n",
      "Epoch 8/200\n",
      "50000/50000 [==============================] - 10s 193us/step - loss: 0.1080 - acc: 0.9696 - val_loss: 0.0873 - val_acc: 0.9758\n",
      "Epoch 9/200\n",
      "50000/50000 [==============================] - 10s 200us/step - loss: 0.1009 - acc: 0.9722 - val_loss: 0.0953 - val_acc: 0.9761\n",
      "Epoch 10/200\n",
      "50000/50000 [==============================] - 12s 237us/step - loss: 0.0920 - acc: 0.9752 - val_loss: 0.0927 - val_acc: 0.9771\n",
      "Epoch 11/200\n",
      "50000/50000 [==============================] - 10s 200us/step - loss: 0.0921 - acc: 0.9743 - val_loss: 0.0837 - val_acc: 0.9789\n",
      "Epoch 12/200\n",
      "50000/50000 [==============================] - 10s 206us/step - loss: 0.0796 - acc: 0.9772 - val_loss: 0.0910 - val_acc: 0.9778\n",
      "Epoch 13/200\n",
      "50000/50000 [==============================] - 11s 222us/step - loss: 0.0769 - acc: 0.9785 - val_loss: 0.0911 - val_acc: 0.9791\n",
      "Epoch 14/200\n",
      "50000/50000 [==============================] - 10s 200us/step - loss: 0.0779 - acc: 0.9777 - val_loss: 0.0933 - val_acc: 0.9776\n",
      "Epoch 15/200\n",
      "50000/50000 [==============================] - 10s 194us/step - loss: 0.0735 - acc: 0.9790 - val_loss: 0.0907 - val_acc: 0.9787\n",
      "Epoch 16/200\n",
      "50000/50000 [==============================] - 11s 214us/step - loss: 0.0713 - acc: 0.9807 - val_loss: 0.0961 - val_acc: 0.9785\n",
      "Epoch 17/200\n",
      "50000/50000 [==============================] - 11s 223us/step - loss: 0.0694 - acc: 0.9814 - val_loss: 0.0934 - val_acc: 0.9790\n",
      "Epoch 18/200\n",
      "50000/50000 [==============================] - 10s 202us/step - loss: 0.0665 - acc: 0.9822 - val_loss: 0.1001 - val_acc: 0.9783\n",
      "Epoch 19/200\n",
      "50000/50000 [==============================] - 10s 201us/step - loss: 0.0647 - acc: 0.9824 - val_loss: 0.0963 - val_acc: 0.9793\n",
      "Epoch 20/200\n",
      "50000/50000 [==============================] - 10s 198us/step - loss: 0.0629 - acc: 0.9833 - val_loss: 0.0915 - val_acc: 0.9814\n",
      "Epoch 21/200\n",
      "50000/50000 [==============================] - 10s 196us/step - loss: 0.0658 - acc: 0.9824 - val_loss: 0.0944 - val_acc: 0.9797\n",
      "Epoch 22/200\n",
      "50000/50000 [==============================] - 10s 197us/step - loss: 0.0616 - acc: 0.9847 - val_loss: 0.0993 - val_acc: 0.9779\n",
      "Epoch 23/200\n",
      "50000/50000 [==============================] - 10s 196us/step - loss: 0.0613 - acc: 0.9842 - val_loss: 0.0987 - val_acc: 0.9787\n",
      "Epoch 24/200\n",
      "50000/50000 [==============================] - 10s 200us/step - loss: 0.0556 - acc: 0.9854 - val_loss: 0.0961 - val_acc: 0.9811\n",
      "Epoch 25/200\n",
      "50000/50000 [==============================] - 10s 199us/step - loss: 0.0532 - acc: 0.9863 - val_loss: 0.1000 - val_acc: 0.9798\n",
      "Epoch 26/200\n",
      "50000/50000 [==============================] - 10s 195us/step - loss: 0.0566 - acc: 0.9853 - val_loss: 0.0943 - val_acc: 0.9816\n",
      "Epoch 27/200\n",
      "50000/50000 [==============================] - 10s 195us/step - loss: 0.0569 - acc: 0.9858 - val_loss: 0.1068 - val_acc: 0.9786\n",
      "Epoch 28/200\n",
      "50000/50000 [==============================] - 11s 213us/step - loss: 0.0578 - acc: 0.9851 - val_loss: 0.1061 - val_acc: 0.9796\n",
      "Epoch 29/200\n",
      "50000/50000 [==============================] - 10s 198us/step - loss: 0.0573 - acc: 0.9852 - val_loss: 0.0960 - val_acc: 0.9813\n",
      "Epoch 30/200\n",
      "50000/50000 [==============================] - 10s 196us/step - loss: 0.0553 - acc: 0.9861 - val_loss: 0.0984 - val_acc: 0.9797\n",
      "Epoch 31/200\n",
      "50000/50000 [==============================] - 10s 197us/step - loss: 0.0596 - acc: 0.9858 - val_loss: 0.0995 - val_acc: 0.9807\n",
      "Epoch 32/200\n",
      "50000/50000 [==============================] - 10s 199us/step - loss: 0.0524 - acc: 0.9869 - val_loss: 0.1029 - val_acc: 0.9806\n",
      "Epoch 33/200\n",
      "50000/50000 [==============================] - 10s 197us/step - loss: 0.0538 - acc: 0.9862 - val_loss: 0.1045 - val_acc: 0.9791\n",
      "Epoch 34/200\n",
      "50000/50000 [==============================] - 10s 202us/step - loss: 0.0525 - acc: 0.9866 - val_loss: 0.1113 - val_acc: 0.9803\n",
      "Epoch 35/200\n",
      "50000/50000 [==============================] - 11s 221us/step - loss: 0.0513 - acc: 0.9877 - val_loss: 0.1089 - val_acc: 0.9791\n",
      "Epoch 36/200\n",
      "50000/50000 [==============================] - 11s 226us/step - loss: 0.0562 - acc: 0.9868 - val_loss: 0.1033 - val_acc: 0.9807\n",
      "Epoch 37/200\n",
      "50000/50000 [==============================] - 11s 212us/step - loss: 0.0529 - acc: 0.9875 - val_loss: 0.1148 - val_acc: 0.9808\n",
      "Epoch 38/200\n",
      "50000/50000 [==============================] - 13s 261us/step - loss: 0.0537 - acc: 0.9866 - val_loss: 0.1000 - val_acc: 0.9812\n",
      "Epoch 39/200\n",
      "50000/50000 [==============================] - 12s 234us/step - loss: 0.0525 - acc: 0.9881 - val_loss: 0.0946 - val_acc: 0.9814\n",
      "Epoch 40/200\n",
      "50000/50000 [==============================] - 10s 207us/step - loss: 0.0482 - acc: 0.9886 - val_loss: 0.1042 - val_acc: 0.9807\n",
      "Epoch 41/200\n",
      "50000/50000 [==============================] - 10s 206us/step - loss: 0.0500 - acc: 0.9880 - val_loss: 0.1098 - val_acc: 0.9805\n",
      "Epoch 42/200\n",
      "50000/50000 [==============================] - 10s 197us/step - loss: 0.0520 - acc: 0.9882 - val_loss: 0.1005 - val_acc: 0.9815\n",
      "Epoch 43/200\n",
      "50000/50000 [==============================] - 10s 197us/step - loss: 0.0487 - acc: 0.9890 - val_loss: 0.0996 - val_acc: 0.9820\n",
      "Epoch 44/200\n",
      "50000/50000 [==============================] - 10s 197us/step - loss: 0.0475 - acc: 0.9894 - val_loss: 0.1018 - val_acc: 0.9822\n",
      "Epoch 45/200\n",
      "50000/50000 [==============================] - 10s 199us/step - loss: 0.0476 - acc: 0.9888 - val_loss: 0.1171 - val_acc: 0.9817\n",
      "Epoch 46/200\n",
      "50000/50000 [==============================] - 10s 198us/step - loss: 0.0502 - acc: 0.9888 - val_loss: 0.1046 - val_acc: 0.9824\n",
      "Epoch 47/200\n",
      "50000/50000 [==============================] - 10s 198us/step - loss: 0.0505 - acc: 0.9888 - val_loss: 0.1000 - val_acc: 0.9822\n",
      "Epoch 48/200\n",
      "50000/50000 [==============================] - 10s 199us/step - loss: 0.0526 - acc: 0.9885 - val_loss: 0.1056 - val_acc: 0.9820\n",
      "Epoch 49/200\n",
      "50000/50000 [==============================] - 11s 214us/step - loss: 0.0455 - acc: 0.9893 - val_loss: 0.0993 - val_acc: 0.9808\n",
      "Epoch 50/200\n",
      "50000/50000 [==============================] - 10s 199us/step - loss: 0.0500 - acc: 0.9885 - val_loss: 0.1106 - val_acc: 0.9808\n",
      "Epoch 51/200\n",
      "50000/50000 [==============================] - 12s 234us/step - loss: 0.0480 - acc: 0.9892 - val_loss: 0.1138 - val_acc: 0.9804\n",
      "Epoch 52/200\n",
      "50000/50000 [==============================] - 10s 208us/step - loss: 0.0465 - acc: 0.9894 - val_loss: 0.1133 - val_acc: 0.9824\n",
      "Epoch 53/200\n",
      "50000/50000 [==============================] - 12s 232us/step - loss: 0.0533 - acc: 0.9892 - val_loss: 0.1093 - val_acc: 0.9806\n",
      "Epoch 54/200\n",
      "50000/50000 [==============================] - 12s 231us/step - loss: 0.0496 - acc: 0.9894 - val_loss: 0.1234 - val_acc: 0.9796\n",
      "Epoch 55/200\n",
      "50000/50000 [==============================] - 12s 235us/step - loss: 0.0506 - acc: 0.9894 - val_loss: 0.1045 - val_acc: 0.9810\n",
      "Epoch 56/200\n",
      "50000/50000 [==============================] - 10s 207us/step - loss: 0.0525 - acc: 0.9888 - val_loss: 0.1084 - val_acc: 0.9811\n",
      "Epoch 57/200\n",
      "50000/50000 [==============================] - 11s 227us/step - loss: 0.0482 - acc: 0.9900 - val_loss: 0.1088 - val_acc: 0.9824\n",
      "Epoch 58/200\n",
      "50000/50000 [==============================] - 10s 192us/step - loss: 0.0443 - acc: 0.9903 - val_loss: 0.1154 - val_acc: 0.9814\n"
     ]
    },
    {
     "name": "stdout",
     "output_type": "stream",
     "text": [
      "Epoch 59/200\n",
      "50000/50000 [==============================] - 9s 181us/step - loss: 0.0486 - acc: 0.9895 - val_loss: 0.1059 - val_acc: 0.9806\n",
      "Epoch 60/200\n",
      "50000/50000 [==============================] - 9s 175us/step - loss: 0.0505 - acc: 0.9903 - val_loss: 0.1083 - val_acc: 0.9817\n",
      "Epoch 61/200\n",
      "50000/50000 [==============================] - 9s 177us/step - loss: 0.0466 - acc: 0.9902 - val_loss: 0.1092 - val_acc: 0.9820\n",
      "Epoch 62/200\n",
      "50000/50000 [==============================] - 9s 186us/step - loss: 0.0460 - acc: 0.9906 - val_loss: 0.1227 - val_acc: 0.9816\n",
      "Epoch 63/200\n",
      "50000/50000 [==============================] - 11s 214us/step - loss: 0.0500 - acc: 0.9901 - val_loss: 0.1095 - val_acc: 0.9810\n",
      "Epoch 64/200\n",
      "50000/50000 [==============================] - 10s 208us/step - loss: 0.0504 - acc: 0.9899 - val_loss: 0.1165 - val_acc: 0.9805\n",
      "Epoch 65/200\n",
      "50000/50000 [==============================] - 9s 180us/step - loss: 0.0471 - acc: 0.9901 - val_loss: 0.1036 - val_acc: 0.9818\n",
      "Epoch 66/200\n",
      "50000/50000 [==============================] - 9s 186us/step - loss: 0.0482 - acc: 0.9901 - val_loss: 0.1100 - val_acc: 0.9820\n",
      "Epoch 67/200\n",
      "50000/50000 [==============================] - 10s 194us/step - loss: 0.0482 - acc: 0.9909 - val_loss: 0.1145 - val_acc: 0.9810\n",
      "Epoch 68/200\n",
      "50000/50000 [==============================] - 10s 192us/step - loss: 0.0458 - acc: 0.9903 - val_loss: 0.1175 - val_acc: 0.9822\n",
      "Epoch 69/200\n",
      "50000/50000 [==============================] - 9s 188us/step - loss: 0.0469 - acc: 0.9901 - val_loss: 0.1171 - val_acc: 0.9813\n",
      "Epoch 70/200\n",
      "50000/50000 [==============================] - 9s 174us/step - loss: 0.0483 - acc: 0.9908 - val_loss: 0.1118 - val_acc: 0.9819\n",
      "Epoch 71/200\n",
      "50000/50000 [==============================] - 9s 175us/step - loss: 0.0496 - acc: 0.9903 - val_loss: 0.1286 - val_acc: 0.9799\n",
      "Epoch 72/200\n",
      "50000/50000 [==============================] - 10s 199us/step - loss: 0.0484 - acc: 0.9908 - val_loss: 0.1202 - val_acc: 0.9810\n",
      "Epoch 73/200\n",
      "50000/50000 [==============================] - 9s 177us/step - loss: 0.0520 - acc: 0.9901 - val_loss: 0.1176 - val_acc: 0.9806\n",
      "Epoch 74/200\n",
      "50000/50000 [==============================] - 9s 177us/step - loss: 0.0494 - acc: 0.9905 - val_loss: 0.1209 - val_acc: 0.9811\n",
      "Epoch 75/200\n",
      "50000/50000 [==============================] - 11s 222us/step - loss: 0.0513 - acc: 0.9906 - val_loss: 0.1308 - val_acc: 0.9811\n",
      "Epoch 76/200\n",
      "50000/50000 [==============================] - 13s 258us/step - loss: 0.0495 - acc: 0.9908 - val_loss: 0.1222 - val_acc: 0.9817\n",
      "Epoch 77/200\n",
      "50000/50000 [==============================] - 10s 198us/step - loss: 0.0542 - acc: 0.9901 - val_loss: 0.1191 - val_acc: 0.9806\n",
      "Epoch 78/200\n",
      "50000/50000 [==============================] - 9s 189us/step - loss: 0.0481 - acc: 0.9913 - val_loss: 0.1214 - val_acc: 0.9811\n",
      "Epoch 79/200\n",
      "50000/50000 [==============================] - 10s 197us/step - loss: 0.0472 - acc: 0.9912 - val_loss: 0.1286 - val_acc: 0.9819\n",
      "Epoch 80/200\n",
      "50000/50000 [==============================] - 9s 187us/step - loss: 0.0513 - acc: 0.9914 - val_loss: 0.1262 - val_acc: 0.9815\n",
      "Epoch 81/200\n",
      "50000/50000 [==============================] - 9s 178us/step - loss: 0.0531 - acc: 0.9903 - val_loss: 0.1198 - val_acc: 0.9817\n",
      "Epoch 82/200\n",
      "50000/50000 [==============================] - 9s 181us/step - loss: 0.0491 - acc: 0.9909 - val_loss: 0.1234 - val_acc: 0.9811\n",
      "Epoch 83/200\n",
      "50000/50000 [==============================] - 9s 176us/step - loss: 0.0483 - acc: 0.9907 - val_loss: 0.1230 - val_acc: 0.9819\n",
      "Epoch 84/200\n",
      "50000/50000 [==============================] - 9s 176us/step - loss: 0.0546 - acc: 0.9906 - val_loss: 0.1303 - val_acc: 0.9815\n",
      "Epoch 85/200\n",
      "50000/50000 [==============================] - 10s 195us/step - loss: 0.0559 - acc: 0.9908 - val_loss: 0.1363 - val_acc: 0.9811\n",
      "Epoch 86/200\n",
      "50000/50000 [==============================] - 9s 183us/step - loss: 0.0519 - acc: 0.9917 - val_loss: 0.1322 - val_acc: 0.9809\n",
      "Epoch 87/200\n",
      "50000/50000 [==============================] - 10s 204us/step - loss: 0.0577 - acc: 0.9906 - val_loss: 0.1213 - val_acc: 0.9817\n",
      "Epoch 88/200\n",
      "50000/50000 [==============================] - 13s 261us/step - loss: 0.0539 - acc: 0.9903 - val_loss: 0.1401 - val_acc: 0.9796\n",
      "Epoch 89/200\n",
      "50000/50000 [==============================] - 11s 224us/step - loss: 0.0523 - acc: 0.9908 - val_loss: 0.1396 - val_acc: 0.9790\n",
      "Epoch 90/200\n",
      "50000/50000 [==============================] - 11s 224us/step - loss: 0.0536 - acc: 0.9906 - val_loss: 0.1288 - val_acc: 0.9813\n",
      "Epoch 91/200\n",
      "50000/50000 [==============================] - 13s 253us/step - loss: 0.0492 - acc: 0.9910 - val_loss: 0.1378 - val_acc: 0.9810\n",
      "Epoch 92/200\n",
      "50000/50000 [==============================] - 12s 243us/step - loss: 0.0562 - acc: 0.9903 - val_loss: 0.1229 - val_acc: 0.9825\n",
      "Epoch 93/200\n",
      "50000/50000 [==============================] - 10s 193us/step - loss: 0.0549 - acc: 0.9905 - val_loss: 0.1314 - val_acc: 0.9818\n",
      "Epoch 94/200\n",
      "50000/50000 [==============================] - 9s 188us/step - loss: 0.0523 - acc: 0.9909 - val_loss: 0.1270 - val_acc: 0.9824\n",
      "Epoch 95/200\n",
      "50000/50000 [==============================] - 9s 190us/step - loss: 0.0491 - acc: 0.9915 - val_loss: 0.1291 - val_acc: 0.9816\n",
      "Epoch 96/200\n",
      "50000/50000 [==============================] - 9s 187us/step - loss: 0.0507 - acc: 0.9915 - val_loss: 0.1300 - val_acc: 0.9810\n",
      "Epoch 97/200\n",
      "50000/50000 [==============================] - 9s 187us/step - loss: 0.0516 - acc: 0.9912 - val_loss: 0.1405 - val_acc: 0.9809\n",
      "Epoch 98/200\n",
      "50000/50000 [==============================] - 9s 189us/step - loss: 0.0525 - acc: 0.9912 - val_loss: 0.1588 - val_acc: 0.9793\n",
      "Epoch 99/200\n",
      "50000/50000 [==============================] - 11s 213us/step - loss: 0.0556 - acc: 0.9909 - val_loss: 0.1298 - val_acc: 0.9806\n",
      "Epoch 100/200\n",
      "50000/50000 [==============================] - 10s 208us/step - loss: 0.0504 - acc: 0.9911 - val_loss: 0.1385 - val_acc: 0.9810\n",
      "Epoch 101/200\n",
      "50000/50000 [==============================] - 9s 176us/step - loss: 0.0542 - acc: 0.9916 - val_loss: 0.1485 - val_acc: 0.9806\n",
      "Epoch 102/200\n",
      "50000/50000 [==============================] - 9s 174us/step - loss: 0.0562 - acc: 0.9913 - val_loss: 0.1343 - val_acc: 0.9811\n",
      "Epoch 103/200\n",
      "50000/50000 [==============================] - 9s 172us/step - loss: 0.0539 - acc: 0.9917 - val_loss: 0.1561 - val_acc: 0.9816\n",
      "Epoch 104/200\n",
      "50000/50000 [==============================] - 9s 174us/step - loss: 0.0499 - acc: 0.9921 - val_loss: 0.1394 - val_acc: 0.9807\n",
      "Epoch 105/200\n",
      "50000/50000 [==============================] - 9s 173us/step - loss: 0.0526 - acc: 0.9915 - val_loss: 0.1556 - val_acc: 0.9799\n",
      "Epoch 106/200\n",
      "50000/50000 [==============================] - 9s 175us/step - loss: 0.0574 - acc: 0.9912 - val_loss: 0.1429 - val_acc: 0.9808\n",
      "Epoch 107/200\n",
      "50000/50000 [==============================] - 9s 174us/step - loss: 0.0556 - acc: 0.9908 - val_loss: 0.1309 - val_acc: 0.9830\n",
      "Epoch 108/200\n",
      "50000/50000 [==============================] - 9s 173us/step - loss: 0.0544 - acc: 0.9914 - val_loss: 0.1406 - val_acc: 0.9822\n",
      "Epoch 109/200\n",
      "50000/50000 [==============================] - 9s 174us/step - loss: 0.0523 - acc: 0.9912 - val_loss: 0.1387 - val_acc: 0.9818\n",
      "Epoch 110/200\n",
      "50000/50000 [==============================] - 9s 174us/step - loss: 0.0603 - acc: 0.9905 - val_loss: 0.1394 - val_acc: 0.9803\n",
      "Epoch 111/200\n",
      "50000/50000 [==============================] - 9s 174us/step - loss: 0.0501 - acc: 0.9913 - val_loss: 0.1389 - val_acc: 0.9816\n",
      "Epoch 112/200\n",
      "50000/50000 [==============================] - 9s 173us/step - loss: 0.0483 - acc: 0.9915 - val_loss: 0.1390 - val_acc: 0.9807\n",
      "Epoch 113/200\n",
      "50000/50000 [==============================] - 9s 173us/step - loss: 0.0523 - acc: 0.9915 - val_loss: 0.1386 - val_acc: 0.9807\n",
      "Epoch 114/200\n",
      "50000/50000 [==============================] - 11s 217us/step - loss: 0.0529 - acc: 0.9921 - val_loss: 0.1491 - val_acc: 0.9804\n",
      "Epoch 115/200\n",
      "50000/50000 [==============================] - 10s 192us/step - loss: 0.0533 - acc: 0.9912 - val_loss: 0.1342 - val_acc: 0.9814\n",
      "Epoch 116/200\n",
      "50000/50000 [==============================] - 9s 177us/step - loss: 0.0554 - acc: 0.9922 - val_loss: 0.1299 - val_acc: 0.9812\n",
      "Epoch 117/200\n"
     ]
    },
    {
     "name": "stdout",
     "output_type": "stream",
     "text": [
      "50000/50000 [==============================] - 9s 176us/step - loss: 0.0543 - acc: 0.9913 - val_loss: 0.1515 - val_acc: 0.9813\n",
      "Epoch 118/200\n",
      "50000/50000 [==============================] - 9s 175us/step - loss: 0.0516 - acc: 0.9919 - val_loss: 0.1508 - val_acc: 0.9805\n",
      "Epoch 119/200\n",
      "50000/50000 [==============================] - 10s 203us/step - loss: 0.0553 - acc: 0.9913 - val_loss: 0.1575 - val_acc: 0.9808\n",
      "Epoch 120/200\n",
      "50000/50000 [==============================] - 12s 240us/step - loss: 0.0590 - acc: 0.9916 - val_loss: 0.1421 - val_acc: 0.9816\n",
      "Epoch 121/200\n",
      "50000/50000 [==============================] - 11s 217us/step - loss: 0.0527 - acc: 0.9915 - val_loss: 0.1349 - val_acc: 0.9821\n",
      "Epoch 122/200\n",
      "50000/50000 [==============================] - 10s 200us/step - loss: 0.0603 - acc: 0.9914 - val_loss: 0.1466 - val_acc: 0.9814\n",
      "Epoch 123/200\n",
      "50000/50000 [==============================] - 11s 225us/step - loss: 0.0546 - acc: 0.9918 - val_loss: 0.1573 - val_acc: 0.9811\n",
      "Epoch 124/200\n",
      "50000/50000 [==============================] - 11s 214us/step - loss: 0.0530 - acc: 0.9922 - val_loss: 0.1485 - val_acc: 0.9830\n",
      "Epoch 125/200\n",
      "50000/50000 [==============================] - 11s 226us/step - loss: 0.0546 - acc: 0.9920 - val_loss: 0.1573 - val_acc: 0.9812\n",
      "Epoch 126/200\n",
      "50000/50000 [==============================] - 10s 208us/step - loss: 0.0588 - acc: 0.9914 - val_loss: 0.1613 - val_acc: 0.9808\n",
      "Epoch 127/200\n",
      "50000/50000 [==============================] - 9s 176us/step - loss: 0.0564 - acc: 0.9917 - val_loss: 0.1514 - val_acc: 0.9814\n",
      "Epoch 128/200\n",
      "50000/50000 [==============================] - 9s 175us/step - loss: 0.0644 - acc: 0.9913 - val_loss: 0.1617 - val_acc: 0.9805\n",
      "Epoch 129/200\n",
      "50000/50000 [==============================] - 9s 175us/step - loss: 0.0547 - acc: 0.9920 - val_loss: 0.1658 - val_acc: 0.9816\n",
      "Epoch 130/200\n",
      "50000/50000 [==============================] - 9s 177us/step - loss: 0.0633 - acc: 0.9910 - val_loss: 0.1647 - val_acc: 0.9801\n",
      "Epoch 131/200\n",
      "50000/50000 [==============================] - 9s 187us/step - loss: 0.0619 - acc: 0.9914 - val_loss: 0.1584 - val_acc: 0.9817\n",
      "Epoch 132/200\n",
      "50000/50000 [==============================] - 11s 215us/step - loss: 0.0664 - acc: 0.9910 - val_loss: 0.1671 - val_acc: 0.9809\n",
      "Epoch 133/200\n",
      "50000/50000 [==============================] - 10s 196us/step - loss: 0.0640 - acc: 0.9921 - val_loss: 0.1765 - val_acc: 0.9806\n",
      "Epoch 134/200\n",
      "50000/50000 [==============================] - 9s 188us/step - loss: 0.0601 - acc: 0.9914 - val_loss: 0.1605 - val_acc: 0.9803\n",
      "Epoch 135/200\n",
      "50000/50000 [==============================] - 10s 194us/step - loss: 0.0590 - acc: 0.9916 - val_loss: 0.1732 - val_acc: 0.9800\n",
      "Epoch 136/200\n",
      "50000/50000 [==============================] - 10s 197us/step - loss: 0.0650 - acc: 0.9914 - val_loss: 0.1612 - val_acc: 0.9815\n",
      "Epoch 137/200\n",
      "50000/50000 [==============================] - 9s 177us/step - loss: 0.0664 - acc: 0.9911 - val_loss: 0.1702 - val_acc: 0.9806\n",
      "Epoch 138/200\n",
      "50000/50000 [==============================] - 11s 210us/step - loss: 0.0627 - acc: 0.9918 - val_loss: 0.1671 - val_acc: 0.9809\n",
      "Epoch 139/200\n",
      "50000/50000 [==============================] - 10s 204us/step - loss: 0.0634 - acc: 0.9913 - val_loss: 0.1673 - val_acc: 0.9810\n",
      "Epoch 140/200\n",
      "50000/50000 [==============================] - 11s 219us/step - loss: 0.0596 - acc: 0.9921 - val_loss: 0.1727 - val_acc: 0.9798\n",
      "Epoch 141/200\n",
      "50000/50000 [==============================] - 9s 184us/step - loss: 0.0630 - acc: 0.9915 - val_loss: 0.1484 - val_acc: 0.9815\n",
      "Epoch 142/200\n",
      "50000/50000 [==============================] - 9s 176us/step - loss: 0.0624 - acc: 0.9920 - val_loss: 0.1729 - val_acc: 0.9807\n",
      "Epoch 143/200\n",
      "50000/50000 [==============================] - 9s 175us/step - loss: 0.0649 - acc: 0.9916 - val_loss: 0.1573 - val_acc: 0.9833\n",
      "Epoch 144/200\n",
      "50000/50000 [==============================] - 9s 174us/step - loss: 0.0591 - acc: 0.9922 - val_loss: 0.1623 - val_acc: 0.9824\n",
      "Epoch 145/200\n",
      "50000/50000 [==============================] - 9s 187us/step - loss: 0.0621 - acc: 0.9911 - val_loss: 0.1557 - val_acc: 0.9819\n",
      "Epoch 146/200\n",
      "50000/50000 [==============================] - 12s 244us/step - loss: 0.0594 - acc: 0.9916 - val_loss: 0.1551 - val_acc: 0.9814\n",
      "Epoch 147/200\n",
      "43520/50000 [=========================>....] - ETA: 1s - loss: 0.0496 - acc: 0.9930"
     ]
    }
   ],
   "source": [
    "network_dropout = network_dropout.fit(train_images, train_labels,validation_data=(valid_images,valid_labels), epochs=200, batch_size=512)"
   ]
  },
  {
   "cell_type": "markdown",
   "metadata": {},
   "source": [
    "### Dropout Analysis"
   ]
  },
  {
   "cell_type": "code",
   "execution_count": null,
   "metadata": {},
   "outputs": [],
   "source": [
    "accuracy_dropout = network_dropout.history['val_acc']\n",
    "loss_dropout = network_dropout.history['val_loss']"
   ]
  },
  {
   "cell_type": "code",
   "execution_count": null,
   "metadata": {},
   "outputs": [],
   "source": [
    "plt.plot(initial_accuracy)\n",
    "plt.plot(initial_loss)\n",
    "plt.plot(accuracy_dropout)\n",
    "plt.plot(loss_dropout)\n",
    "plt.legend(['val_acc', 'val_loss', 'val_acc_dropout', 'val_loss_dropout'])\n",
    "plt.title('The validation set accuracy and loss of original model and dropout model over epochs')\n",
    "plt.show()"
   ]
  },
  {
   "cell_type": "markdown",
   "metadata": {},
   "source": [
    "### Weight Regularisation\n",
    "\n",
    "We'll now try weight regularised models."
   ]
  },
  {
   "cell_type": "code",
   "execution_count": null,
   "metadata": {},
   "outputs": [],
   "source": [
    "network_l1 = models.Sequential()\n"
   ]
  },
  {
   "cell_type": "code",
   "execution_count": null,
   "metadata": {},
   "outputs": [],
   "source": [
    "network_l1.add(layers.Dense(512, activation='relu', input_shape=(28 * 28,), kernel_regularizer=regularizers.l1(0.001)))\n",
    "network_l1.add(layers.Dense(512, activation='relu', kernel_regularizer=regularizers.l1(0.001)))\n",
    "network_l1.add(layers.Dense(512, activation='relu', kernel_regularizer=regularizers.l1(0.001)))\n",
    "network_l1.add(layers.Dense(512, activation='relu', kernel_regularizer=regularizers.l1(0.001)))\n",
    "network_l1.add(layers.Dense(10, activation='softmax'))"
   ]
  },
  {
   "cell_type": "code",
   "execution_count": null,
   "metadata": {},
   "outputs": [],
   "source": [
    "network_l1.compile(optimizer='rmsprop', loss='categorical_crossentropy', metrics=['accuracy'])"
   ]
  },
  {
   "cell_type": "code",
   "execution_count": null,
   "metadata": {},
   "outputs": [],
   "source": [
    "network_l1 = network_l1.fit(train_images, train_labels,validation_data=(valid_images,valid_labels), epochs=200, batch_size=512)"
   ]
  },
  {
   "cell_type": "code",
   "execution_count": null,
   "metadata": {},
   "outputs": [],
   "source": [
    "network_l2 = models.Sequential()"
   ]
  },
  {
   "cell_type": "code",
   "execution_count": null,
   "metadata": {},
   "outputs": [],
   "source": [
    "network_l2.add(layers.Dense(512, activation='relu', input_shape=(28 * 28,), kernel_regularizer=regularizers.l2(0.001)))\n",
    "network_l2.add(layers.Dense(512, activation='relu', kernel_regularizer=regularizers.l2(0.001)))\n",
    "network_l2.add(layers.Dense(512, activation='relu', kernel_regularizer=regularizers.l2(0.001)))\n",
    "network_l2.add(layers.Dense(512, activation='relu', kernel_regularizer=regularizers.l2(0.001)))\n",
    "network_l2.add(layers.Dense(10, activation='softmax'))\n"
   ]
  },
  {
   "cell_type": "code",
   "execution_count": null,
   "metadata": {},
   "outputs": [],
   "source": [
    "network_l2.compile(optimizer='rmsprop', loss='categorical_crossentropy', metrics=['accuracy'])\n"
   ]
  },
  {
   "cell_type": "code",
   "execution_count": null,
   "metadata": {},
   "outputs": [],
   "source": [
    "network_l2 = network_l2.fit(train_images, train_labels,validation_data=(valid_images,valid_labels), epochs=200, batch_size=512)"
   ]
  },
  {
   "cell_type": "markdown",
   "metadata": {},
   "source": [
    "### Analysis"
   ]
  },
  {
   "cell_type": "code",
   "execution_count": null,
   "metadata": {},
   "outputs": [],
   "source": [
    "loss_l1 = network_l1.history['val_loss']\n",
    "loss_l2 = network_l2.history['val_loss']"
   ]
  },
  {
   "cell_type": "code",
   "execution_count": null,
   "metadata": {},
   "outputs": [],
   "source": [
    "plt.plot(initial_loss)\n",
    "plt.plot(loss_dropout)\n",
    "plt.plot(loss_l1)\n",
    "plt.plot(loss_l2)\n",
    "plt.legend(['val_loss_org', 'val_loss_dropout', 'val_loss_l1', 'val_loss_l2'])\n",
    "plt.title('The validation loss for the initial/dropout/L1/L2 model over epochs')\n",
    "plt.show()\n"
   ]
  },
  {
   "cell_type": "markdown",
   "metadata": {},
   "source": [
    "### Alternate Models\n",
    "\n",
    "The first model is similar to our dropout and has one extra layer."
   ]
  },
  {
   "cell_type": "code",
   "execution_count": null,
   "metadata": {},
   "outputs": [],
   "source": [
    "model_1 = models.Sequential()"
   ]
  },
  {
   "cell_type": "code",
   "execution_count": null,
   "metadata": {},
   "outputs": [],
   "source": [
    "model_1.add(layers.Dense(512, activation='relu', input_shape=(28 * 28,)))\n",
    "model_1.add(layers.Dropout(0.5))\n",
    "model_1.add(layers.Dense(512, activation='relu'))\n",
    "model_1.add(layers.Dropout(0.5))\n",
    "model_1.add(layers.Dense(512, activation='relu'))\n",
    "model_1.add(layers.Dropout(0.5))\n",
    "model_1.add(layers.Dense(10, activation='softmax'))"
   ]
  },
  {
   "cell_type": "code",
   "execution_count": null,
   "metadata": {},
   "outputs": [],
   "source": [
    "model_1.compile(optimizer='rmsprop', loss='categorical_crossentropy', metrics=['accuracy'])\n"
   ]
  },
  {
   "cell_type": "code",
   "execution_count": null,
   "metadata": {},
   "outputs": [],
   "source": [
    "model_1 = model_1.fit(train_images, train_labels,validation_data=(valid_images,valid_labels), epochs=100, batch_size=512)"
   ]
  },
  {
   "cell_type": "code",
   "execution_count": null,
   "metadata": {},
   "outputs": [],
   "source": [
    "model_2 = models.Sequential()"
   ]
  },
  {
   "cell_type": "markdown",
   "metadata": {},
   "source": [
    "Our second model uses one less dropout layer, and the SGD optimizer."
   ]
  },
  {
   "cell_type": "code",
   "execution_count": null,
   "metadata": {},
   "outputs": [],
   "source": [
    "model_2.add(layers.Dense(512, activation='relu', input_shape=(28 * 28,)))\n",
    "model_2.add(layers.Dropout(0.5))\n",
    "model_2.add(layers.Dense(512, activation='relu'))\n",
    "model_2.add(layers.Dropout(0.5))\n",
    "model_2.add(layers.Dense(10, activation='softmax'))\n"
   ]
  },
  {
   "cell_type": "code",
   "execution_count": null,
   "metadata": {},
   "outputs": [],
   "source": [
    "model_2.compile(optimizer='sgd', loss='categorical_crossentropy', metrics=['accuracy'])\n"
   ]
  },
  {
   "cell_type": "code",
   "execution_count": null,
   "metadata": {},
   "outputs": [],
   "source": [
    "model_2 = model_2.fit(train_images, train_labels,validation_data=(valid_images,valid_labels), epochs=100, batch_size=512)"
   ]
  },
  {
   "cell_type": "markdown",
   "metadata": {},
   "source": [
    "We add more layers to our dropputs and use the ADAM optimizer."
   ]
  },
  {
   "cell_type": "code",
   "execution_count": null,
   "metadata": {},
   "outputs": [],
   "source": [
    "model_3 = models.Sequential()\n"
   ]
  },
  {
   "cell_type": "code",
   "execution_count": null,
   "metadata": {},
   "outputs": [],
   "source": [
    "model_3.add(layers.Dense(512, activation='relu', input_shape=(28 * 28,)))\n",
    "model_3.add(layers.Dropout(0.5))\n",
    "model_3.add(layers.Dense(512, activation='relu'))\n",
    "model_3.add(layers.Dropout(0.5))\n",
    "model_3.add(layers.Dense(512, activation='relu'))\n",
    "model_3.add(layers.Dropout(0.5))\n",
    "model_3.add(layers.Dense(512, activation='relu'))\n",
    "model_3.add(layers.Dropout(0.5))\n",
    "model_3.add(layers.Dense(10, activation='softmax'))\n"
   ]
  },
  {
   "cell_type": "code",
   "execution_count": null,
   "metadata": {},
   "outputs": [],
   "source": [
    "model_3.compile(optimizer='adam', loss='categorical_crossentropy', metrics=['accuracy'])\n"
   ]
  },
  {
   "cell_type": "code",
   "execution_count": null,
   "metadata": {},
   "outputs": [],
   "source": [
    "model_3 = model_3.fit(train_images, train_labels,validation_data=(valid_images,valid_labels), epochs=100, batch_size=512)"
   ]
  },
  {
   "cell_type": "markdown",
   "metadata": {},
   "source": [
    "We now use a simple model with no dropouts, but use adam as our optimizer."
   ]
  },
  {
   "cell_type": "code",
   "execution_count": null,
   "metadata": {},
   "outputs": [],
   "source": [
    "model_4 = models.Sequential()"
   ]
  },
  {
   "cell_type": "code",
   "execution_count": null,
   "metadata": {},
   "outputs": [],
   "source": [
    "model_4.add(layers.Dense(512, activation='relu', input_shape=(28 * 28,)))\n",
    "model_4.add(layers.Dense(512, activation='relu'))\n",
    "model_4.add(layers.Dense(512, activation='relu'))\n",
    "model_4.add(layers.Dense(10, activation='softmax'))\n"
   ]
  },
  {
   "cell_type": "code",
   "execution_count": null,
   "metadata": {},
   "outputs": [],
   "source": [
    "model_4.compile(optimizer='adam', loss='categorical_crossentropy', metrics=['accuracy'])\n"
   ]
  },
  {
   "cell_type": "code",
   "execution_count": null,
   "metadata": {},
   "outputs": [],
   "source": [
    "model_4 = model_4.fit(train_images, train_labels,validation_data=(valid_images,valid_labels), epochs=100, batch_size=512)"
   ]
  },
  {
   "cell_type": "markdown",
   "metadata": {},
   "source": [
    "We now use an even smaller and simpler model."
   ]
  },
  {
   "cell_type": "code",
   "execution_count": null,
   "metadata": {},
   "outputs": [],
   "source": [
    "model_5 = models.Sequential()"
   ]
  },
  {
   "cell_type": "code",
   "execution_count": null,
   "metadata": {},
   "outputs": [],
   "source": [
    "model_5.add(layers.Dense(512, activation='relu', input_shape=(28 * 28,)))\n",
    "model_5.add(layers.Dense(512, activation='relu'))\n",
    "model_5.add(layers.Dense(10, activation='softmax'))"
   ]
  },
  {
   "cell_type": "code",
   "execution_count": null,
   "metadata": {},
   "outputs": [],
   "source": [
    "\n",
    "model_5.compile(optimizer='rmsprop', loss='categorical_crossentropy', metrics=['accuracy'])"
   ]
  },
  {
   "cell_type": "code",
   "execution_count": null,
   "metadata": {},
   "outputs": [],
   "source": [
    "model_5 = model_5.fit(train_images, train_labels,validation_data=(valid_images,valid_labels), epochs=100, batch_size=512)\n"
   ]
  },
  {
   "cell_type": "markdown",
   "metadata": {},
   "source": [
    "We add a few more embedding layers, and use adagrad optimizer."
   ]
  },
  {
   "cell_type": "code",
   "execution_count": null,
   "metadata": {},
   "outputs": [],
   "source": [
    "model_6 = model_6.Sequential()"
   ]
  },
  {
   "cell_type": "code",
   "execution_count": null,
   "metadata": {},
   "outputs": [],
   "source": [
    "model_6.add(layers.Dense(512, activation='relu', input_shape=(28 * 28,)))\n",
    "model_6.add(layers.Dense(512, activation='relu'))\n",
    "model_6.add(layers.Dense(512, activation='relu'))\n",
    "model_6.add(layers.Dense(512, activation='relu'))\n",
    "model_6.add(layers.Dense(512, activation='relu'))\n",
    "model_6.add(layers.Dense(10, activation='softmax'))\n"
   ]
  },
  {
   "cell_type": "code",
   "execution_count": null,
   "metadata": {},
   "outputs": [],
   "source": [
    "model_6.compile(optimizer='adagrad', loss='categorical_crossentropy', metrics=['accuracy'])\n"
   ]
  },
  {
   "cell_type": "code",
   "execution_count": null,
   "metadata": {},
   "outputs": [],
   "source": [
    "\n",
    "model_6 = model_6.fit(train_images, train_labels,validation_data=(valid_images,valid_labels), epochs=100, batch_size=512)"
   ]
  },
  {
   "cell_type": "markdown",
   "metadata": {},
   "source": [
    "Our 7th model uses kernel regularizers."
   ]
  },
  {
   "cell_type": "code",
   "execution_count": null,
   "metadata": {},
   "outputs": [],
   "source": [
    "model_7 = model_7.Sequential()\n"
   ]
  },
  {
   "cell_type": "code",
   "execution_count": null,
   "metadata": {},
   "outputs": [],
   "source": [
    "model_7.add(layers.Dense(512, activation='relu', input_shape=(28 * 28,), kernel_regularizer=regularizers.l1(0.001)))\n",
    "model_7.add(layers.Dense(512, activation='relu', kernel_regularizer=regularizers.l1(0.001)))\n",
    "model_7.add(layers.Dense(512, activation='relu', kernel_regularizer=regularizers.l1(0.001)))\n",
    "model_7.add(layers.Dense(10, activation='softmax'))\n"
   ]
  },
  {
   "cell_type": "code",
   "execution_count": null,
   "metadata": {},
   "outputs": [],
   "source": [
    "model_7.compile(optimizer='rmsprop', loss='categorical_crossentropy', metrics=['accuracy'])\n"
   ]
  },
  {
   "cell_type": "code",
   "execution_count": null,
   "metadata": {},
   "outputs": [],
   "source": [
    "model_7 = model_7.fit(train_images, train_labels,validation_data=(valid_images,valid_labels), epochs=100, batch_size=512)"
   ]
  },
  {
   "cell_type": "markdown",
   "metadata": {},
   "source": [
    "We use another regularized model, but this time with the ADAM optimizer."
   ]
  },
  {
   "cell_type": "code",
   "execution_count": null,
   "metadata": {},
   "outputs": [],
   "source": [
    "model_8 = models.Sequential()\n"
   ]
  },
  {
   "cell_type": "code",
   "execution_count": null,
   "metadata": {},
   "outputs": [],
   "source": [
    "model_8.add(layers.Dense(512, activation='relu', input_shape=(28 * 28,), kernel_regularizer=regularizers.l1(0.001)))\n",
    "model_8.add(layers.Dense(512, activation='relu', kernel_regularizer=regularizers.l1(0.001)))\n",
    "model_8.add(layers.Dense(10, activation='softmax'))\n"
   ]
  },
  {
   "cell_type": "code",
   "execution_count": null,
   "metadata": {},
   "outputs": [],
   "source": [
    "model_8.compile(optimizer='adam', loss='categorical_crossentropy', metrics=['accuracy'])\n"
   ]
  },
  {
   "cell_type": "code",
   "execution_count": null,
   "metadata": {},
   "outputs": [],
   "source": [
    "model_8 = model_8.fit(train_images, train_labels,validation_data=(valid_images,valid_labels), epochs=100, batch_size=512)"
   ]
  },
  {
   "cell_type": "markdown",
   "metadata": {},
   "source": [
    "This model contains both the l1 and l2 regularizer, and uses a adagrad optimizer."
   ]
  },
  {
   "cell_type": "code",
   "execution_count": null,
   "metadata": {},
   "outputs": [],
   "source": [
    "model_9 = models.Sequential()"
   ]
  },
  {
   "cell_type": "code",
   "execution_count": null,
   "metadata": {},
   "outputs": [],
   "source": [
    "model_9.add(layers.Dense(512, activation='relu', input_shape=(28 * 28,), kernel_regularizer=regularizers.l1(0.001)))\n",
    "model_9.add(layers.Dense(512, activation='relu', kernel_regularizer=regularizers.l1(0.001)))\n",
    "model_9.add(layers.Dense(512, activation='relu', kernel_regularizer=regularizers.l2(0.001)))\n",
    "model_9.add(layers.Dense(10, activation='softmax'))"
   ]
  },
  {
   "cell_type": "code",
   "execution_count": null,
   "metadata": {},
   "outputs": [],
   "source": [
    "model_9.compile(optimizer='adagrad', loss='categorical_crossentropy', metrics=['accuracy'])\n"
   ]
  },
  {
   "cell_type": "code",
   "execution_count": null,
   "metadata": {},
   "outputs": [],
   "source": [
    "model_9 = model_9.fit(train_images, train_labels,validation_data=(valid_images,valid_labels), epochs=100, batch_size=512)"
   ]
  },
  {
   "cell_type": "markdown",
   "metadata": {},
   "source": [
    "Our final model is a little more simple but very similar to our previous model, and uses RMSPROP."
   ]
  },
  {
   "cell_type": "code",
   "execution_count": null,
   "metadata": {},
   "outputs": [],
   "source": [
    "model_10 = models.Sequential()"
   ]
  },
  {
   "cell_type": "code",
   "execution_count": null,
   "metadata": {},
   "outputs": [],
   "source": [
    "model_10.add(layers.Dense(512, activation='relu', input_shape=(28 * 28,), kernel_regularizer=regularizers.l1(0.001)))\n",
    "model_10.add(layers.Dense(512, activation='relu', kernel_regularizer=regularizers.l2(0.001)))\n",
    "model_10.add(layers.Dense(10, activation='softmax'))"
   ]
  },
  {
   "cell_type": "code",
   "execution_count": null,
   "metadata": {},
   "outputs": [],
   "source": [
    "model_10.compile(optimizer='rmsprop', loss='categorical_crossentropy', metrics=['accuracy'])\n"
   ]
  },
  {
   "cell_type": "code",
   "execution_count": null,
   "metadata": {},
   "outputs": [],
   "source": [
    "\n",
    "model_10 = model_10.fit(train_images, train_labels,validation_data=(valid_images,valid_labels), epochs=100, batch_size=512)"
   ]
  },
  {
   "cell_type": "markdown",
   "metadata": {},
   "source": [
    "### Final Analysis"
   ]
  },
  {
   "cell_type": "code",
   "execution_count": null,
   "metadata": {},
   "outputs": [],
   "source": [
    "# val_loss_drop4 = result_drop4.history['val_loss']\n",
    "# val_loss_drop3 = result_drop3.history['val_loss']\n",
    "# val_loss_drop6 = result_drop6.history['val_loss']\n",
    "# val_loss_4 = result_4.history['val_loss']\n",
    "# val_loss_3 = result_3.history['val_loss']\n",
    "# val_loss_6 = result_6.history['val_loss']\n",
    "# val_loss_l1_4 = result_l1_4.history['val_loss']\n",
    "# val_loss_l1_3 = result_l1_3.history['val_loss']\n",
    "# val_loss_l2_4 = result_l2_4.history['val_loss']\n",
    "# val_loss_l2_3 = result_l2_3.history['val_loss']"
   ]
  },
  {
   "cell_type": "code",
   "execution_count": null,
   "metadata": {},
   "outputs": [],
   "source": [
    "# plt.plot(val_loss_dropout[:100])\n",
    "# plt.plot(val_loss_l2[:100])\n",
    "# plt.plot(val_loss_drop4)\n",
    "# plt.plot(val_loss_drop3)\n",
    "# plt.plot(val_loss_drop6)\n",
    "# plt.plot(val_loss_4)\n",
    "# plt.plot(val_loss_3)\n",
    "# plt.plot(val_loss_6)\n",
    "# plt.plot(val_loss_l1_4)\n",
    "# plt.plot(val_loss_l1_3)\n",
    "# plt.plot(val_loss_l2_4)\n",
    "# plt.plot(val_loss_l2_3)\n",
    "# plt.legend(['val_loss_dropout', 'val_loss_l2', 'val_loss_drop4', 'val_loss_drop3', 'val_loss_drop6', 'val_loss_4', 'val_loss_3', 'val_loss_6', 'val_loss_l1_4', 'val_loss_l1_3', 'val_loss_l2_4', 'val_loss_l2_3'])\n",
    "# plt.title('The validation loss for the dropout/L2 model and alternative models over epochs')\n",
    "# plt.show()"
   ]
  },
  {
   "cell_type": "markdown",
   "metadata": {},
   "source": [
    "### FInal Model"
   ]
  }
 ],
 "metadata": {
  "kernelspec": {
   "display_name": "Python 3",
   "language": "python",
   "name": "python3"
  },
  "language_info": {
   "codemirror_mode": {
    "name": "ipython",
    "version": 3
   },
   "file_extension": ".py",
   "mimetype": "text/x-python",
   "name": "python",
   "nbconvert_exporter": "python",
   "pygments_lexer": "ipython3",
   "version": "3.5.2"
  }
 },
 "nbformat": 4,
 "nbformat_minor": 2
}
